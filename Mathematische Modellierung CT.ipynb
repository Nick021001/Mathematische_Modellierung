{
 "cells": [
  {
   "cell_type": "code",
   "execution_count": 3,
   "id": "72924679-024d-42d6-8ab6-8dcf82140c3e",
   "metadata": {},
   "outputs": [
    {
     "name": "stdout",
     "output_type": "stream",
     "text": [
      "Collecting scikit-image\n",
      "  Downloading scikit_image-0.21.0-cp38-cp38-win_amd64.whl.metadata (14 kB)\n",
      "Requirement already satisfied: numpy>=1.21.1 in c:\\users\\nikla\\anaconda3\\lib\\site-packages (from scikit-image) (1.24.3)\n",
      "Collecting scipy>=1.8 (from scikit-image)\n",
      "  Downloading scipy-1.10.1-cp38-cp38-win_amd64.whl.metadata (58 kB)\n",
      "     ---------------------------------------- 0.0/59.0 kB ? eta -:--:--\n",
      "     ---------------------------------------- 59.0/59.0 kB 3.0 MB/s eta 0:00:00\n",
      "Collecting networkx>=2.8 (from scikit-image)\n",
      "  Downloading networkx-3.1-py3-none-any.whl.metadata (5.3 kB)\n",
      "Requirement already satisfied: pillow>=9.0.1 in c:\\users\\nikla\\anaconda3\\lib\\site-packages (from scikit-image) (10.4.0)\n",
      "Collecting imageio>=2.27 (from scikit-image)\n",
      "  Downloading imageio-2.35.1-py3-none-any.whl.metadata (4.9 kB)\n",
      "Collecting tifffile>=2022.8.12 (from scikit-image)\n",
      "  Downloading tifffile-2023.7.10-py3-none-any.whl.metadata (31 kB)\n",
      "Collecting PyWavelets>=1.1.1 (from scikit-image)\n",
      "  Downloading PyWavelets-1.4.1-cp38-cp38-win_amd64.whl.metadata (1.9 kB)\n",
      "Requirement already satisfied: packaging>=21 in c:\\users\\nikla\\anaconda3\\lib\\site-packages (from scikit-image) (23.1)\n",
      "Collecting lazy_loader>=0.2 (from scikit-image)\n",
      "  Downloading lazy_loader-0.4-py3-none-any.whl.metadata (7.6 kB)\n",
      "Downloading scikit_image-0.21.0-cp38-cp38-win_amd64.whl (22.7 MB)\n",
      "   ---------------------------------------- 0.0/22.7 MB ? eta -:--:--\n",
      "   - -------------------------------------- 1.1/22.7 MB 34.7 MB/s eta 0:00:01\n",
      "   ----- ---------------------------------- 3.2/22.7 MB 28.6 MB/s eta 0:00:01\n",
      "   -------- ------------------------------- 5.0/22.7 MB 29.2 MB/s eta 0:00:01\n",
      "   ----------- ---------------------------- 6.6/22.7 MB 30.2 MB/s eta 0:00:01\n",
      "   -------------- ------------------------- 8.0/22.7 MB 30.1 MB/s eta 0:00:01\n",
      "   --------------- ------------------------ 8.7/22.7 MB 27.8 MB/s eta 0:00:01\n",
      "   ---------------- ----------------------- 9.3/22.7 MB 24.7 MB/s eta 0:00:01\n",
      "   ----------------- ---------------------- 9.7/22.7 MB 24.8 MB/s eta 0:00:01\n",
      "   ------------------- -------------------- 10.9/22.7 MB 23.4 MB/s eta 0:00:01\n",
      "   --------------------- ------------------ 12.3/22.7 MB 24.2 MB/s eta 0:00:01\n",
      "   ----------------------- ---------------- 13.5/22.7 MB 23.4 MB/s eta 0:00:01\n",
      "   -------------------------- ------------- 15.2/22.7 MB 23.4 MB/s eta 0:00:01\n",
      "   ----------------------------- ---------- 17.0/22.7 MB 22.6 MB/s eta 0:00:01\n",
      "   --------------------------------- ------ 18.9/22.7 MB 24.2 MB/s eta 0:00:01\n",
      "   ------------------------------------ --- 20.6/22.7 MB 29.7 MB/s eta 0:00:01\n",
      "   ---------------------------------------  22.6/22.7 MB 29.7 MB/s eta 0:00:01\n",
      "   ---------------------------------------  22.7/22.7 MB 29.7 MB/s eta 0:00:01\n",
      "   ---------------------------------------  22.7/22.7 MB 29.7 MB/s eta 0:00:01\n",
      "   ---------------------------------------  22.7/22.7 MB 29.7 MB/s eta 0:00:01\n",
      "   ---------------------------------------  22.7/22.7 MB 29.7 MB/s eta 0:00:01\n",
      "   ---------------------------------------- 22.7/22.7 MB 17.7 MB/s eta 0:00:00\n",
      "Downloading imageio-2.35.1-py3-none-any.whl (315 kB)\n",
      "   ---------------------------------------- 0.0/315.4 kB ? eta -:--:--\n",
      "   --------------------------------------- 315.4/315.4 kB 19.1 MB/s eta 0:00:00\n",
      "Downloading lazy_loader-0.4-py3-none-any.whl (12 kB)\n",
      "Downloading networkx-3.1-py3-none-any.whl (2.1 MB)\n",
      "   ---------------------------------------- 0.0/2.1 MB ? eta -:--:--\n",
      "   ------------------------------- -------- 1.6/2.1 MB 34.0 MB/s eta 0:00:01\n",
      "   ---------------------------------------  2.1/2.1 MB 32.7 MB/s eta 0:00:01\n",
      "   ---------------------------------------- 2.1/2.1 MB 18.7 MB/s eta 0:00:00\n",
      "Downloading PyWavelets-1.4.1-cp38-cp38-win_amd64.whl (4.2 MB)\n",
      "   ---------------------------------------- 0.0/4.2 MB ? eta -:--:--\n",
      "   --------------------- ------------------ 2.2/4.2 MB 46.6 MB/s eta 0:00:01\n",
      "   ---------------------------------------  4.1/4.2 MB 37.5 MB/s eta 0:00:01\n",
      "   ---------------------------------------  4.2/4.2 MB 38.1 MB/s eta 0:00:01\n",
      "   ---------------------------------------- 4.2/4.2 MB 26.7 MB/s eta 0:00:00\n",
      "Downloading scipy-1.10.1-cp38-cp38-win_amd64.whl (42.2 MB)\n",
      "   ---------------------------------------- 0.0/42.2 MB ? eta -:--:--\n",
      "   - -------------------------------------- 2.0/42.2 MB 41.4 MB/s eta 0:00:01\n",
      "   -- ------------------------------------- 2.9/42.2 MB 31.3 MB/s eta 0:00:02\n",
      "   --- ------------------------------------ 3.9/42.2 MB 31.5 MB/s eta 0:00:02\n",
      "   --- ------------------------------------ 4.1/42.2 MB 24.0 MB/s eta 0:00:02\n",
      "   --- ------------------------------------ 4.1/42.2 MB 24.0 MB/s eta 0:00:02\n",
      "   --- ------------------------------------ 4.1/42.2 MB 24.0 MB/s eta 0:00:02\n",
      "   --- ------------------------------------ 4.1/42.2 MB 24.0 MB/s eta 0:00:02\n",
      "   --- ------------------------------------ 4.1/42.2 MB 24.0 MB/s eta 0:00:02\n",
      "   --- ------------------------------------ 4.1/42.2 MB 24.0 MB/s eta 0:00:02\n",
      "   ----- ---------------------------------- 5.9/42.2 MB 11.7 MB/s eta 0:00:04\n",
      "   ------ --------------------------------- 6.9/42.2 MB 12.9 MB/s eta 0:00:03\n",
      "   ------ --------------------------------- 6.9/42.2 MB 12.9 MB/s eta 0:00:03\n",
      "   ------ --------------------------------- 6.9/42.2 MB 12.9 MB/s eta 0:00:03\n",
      "   ------ --------------------------------- 6.9/42.2 MB 12.9 MB/s eta 0:00:03\n",
      "   ------ --------------------------------- 6.9/42.2 MB 12.9 MB/s eta 0:00:03\n",
      "   ------ --------------------------------- 6.9/42.2 MB 12.9 MB/s eta 0:00:03\n",
      "   ------ --------------------------------- 6.9/42.2 MB 12.9 MB/s eta 0:00:03\n",
      "   ------ --------------------------------- 6.9/42.2 MB 12.9 MB/s eta 0:00:03\n",
      "   ------ --------------------------------- 6.9/42.2 MB 12.9 MB/s eta 0:00:03\n",
      "   ------ --------------------------------- 6.9/42.2 MB 12.9 MB/s eta 0:00:03\n",
      "   ------ --------------------------------- 6.9/42.2 MB 12.9 MB/s eta 0:00:03\n",
      "   ------ --------------------------------- 6.9/42.2 MB 12.9 MB/s eta 0:00:03\n",
      "   ------ --------------------------------- 6.9/42.2 MB 12.9 MB/s eta 0:00:03\n",
      "   ------ --------------------------------- 6.9/42.2 MB 12.9 MB/s eta 0:00:03\n",
      "   ------ --------------------------------- 6.9/42.2 MB 12.9 MB/s eta 0:00:03\n",
      "   ------ --------------------------------- 6.9/42.2 MB 12.9 MB/s eta 0:00:03\n",
      "   ------ --------------------------------- 6.9/42.2 MB 12.9 MB/s eta 0:00:03\n",
      "   ------ --------------------------------- 6.9/42.2 MB 12.9 MB/s eta 0:00:03\n",
      "   ------ --------------------------------- 6.9/42.2 MB 12.9 MB/s eta 0:00:03\n",
      "   ------ --------------------------------- 6.9/42.2 MB 12.9 MB/s eta 0:00:03\n",
      "   ------ --------------------------------- 6.9/42.2 MB 12.9 MB/s eta 0:00:03\n",
      "   ------ --------------------------------- 6.9/42.2 MB 12.9 MB/s eta 0:00:03\n",
      "   ------ --------------------------------- 6.9/42.2 MB 12.9 MB/s eta 0:00:03\n",
      "   ------ --------------------------------- 6.9/42.2 MB 12.9 MB/s eta 0:00:03\n",
      "   ------ --------------------------------- 6.9/42.2 MB 12.9 MB/s eta 0:00:03\n",
      "   ------ --------------------------------- 6.9/42.2 MB 12.9 MB/s eta 0:00:03\n",
      "   ------ --------------------------------- 6.9/42.2 MB 12.9 MB/s eta 0:00:03\n",
      "   ------ --------------------------------- 6.9/42.2 MB 12.9 MB/s eta 0:00:03\n",
      "   ------ --------------------------------- 6.9/42.2 MB 12.9 MB/s eta 0:00:03\n",
      "   ------ --------------------------------- 6.9/42.2 MB 12.9 MB/s eta 0:00:03\n",
      "   ------ --------------------------------- 6.9/42.2 MB 12.9 MB/s eta 0:00:03\n",
      "   ------ --------------------------------- 6.9/42.2 MB 12.9 MB/s eta 0:00:03\n",
      "   ------ --------------------------------- 6.9/42.2 MB 12.9 MB/s eta 0:00:03\n",
      "   ------ --------------------------------- 6.9/42.2 MB 12.9 MB/s eta 0:00:03\n",
      "   ------ --------------------------------- 6.9/42.2 MB 12.9 MB/s eta 0:00:03\n",
      "   ------ --------------------------------- 6.9/42.2 MB 12.9 MB/s eta 0:00:03\n",
      "   ------ --------------------------------- 6.9/42.2 MB 12.9 MB/s eta 0:00:03\n",
      "   ------ --------------------------------- 6.9/42.2 MB 12.9 MB/s eta 0:00:03\n",
      "   ------ --------------------------------- 6.9/42.2 MB 12.9 MB/s eta 0:00:03\n",
      "   ------ --------------------------------- 6.9/42.2 MB 12.9 MB/s eta 0:00:03\n",
      "   ------ --------------------------------- 6.9/42.2 MB 12.9 MB/s eta 0:00:03\n",
      "   ------ --------------------------------- 6.9/42.2 MB 12.9 MB/s eta 0:00:03\n",
      "   ------ --------------------------------- 6.9/42.2 MB 12.9 MB/s eta 0:00:03\n",
      "   ------ --------------------------------- 6.9/42.2 MB 12.9 MB/s eta 0:00:03\n",
      "   ------ --------------------------------- 6.9/42.2 MB 12.9 MB/s eta 0:00:03\n",
      "   ------ --------------------------------- 6.9/42.2 MB 12.9 MB/s eta 0:00:03\n",
      "   ------ --------------------------------- 6.9/42.2 MB 12.9 MB/s eta 0:00:03\n",
      "   ------ --------------------------------- 6.9/42.2 MB 12.9 MB/s eta 0:00:03\n",
      "   ------ --------------------------------- 6.9/42.2 MB 12.9 MB/s eta 0:00:03\n",
      "   ------ --------------------------------- 6.9/42.2 MB 12.9 MB/s eta 0:00:03\n",
      "   ------ --------------------------------- 6.9/42.2 MB 12.9 MB/s eta 0:00:03\n",
      "   ------ --------------------------------- 6.9/42.2 MB 12.9 MB/s eta 0:00:03\n",
      "   ------ --------------------------------- 6.9/42.2 MB 12.9 MB/s eta 0:00:03\n",
      "   ------ --------------------------------- 6.9/42.2 MB 12.9 MB/s eta 0:00:03\n",
      "   ------ --------------------------------- 6.9/42.2 MB 12.9 MB/s eta 0:00:03\n",
      "   ------ --------------------------------- 6.9/42.2 MB 12.9 MB/s eta 0:00:03\n",
      "   ------ --------------------------------- 6.9/42.2 MB 12.9 MB/s eta 0:00:03\n",
      "   ------ --------------------------------- 6.9/42.2 MB 12.9 MB/s eta 0:00:03\n",
      "   ------ --------------------------------- 6.9/42.2 MB 12.9 MB/s eta 0:00:03\n",
      "   ------ --------------------------------- 6.9/42.2 MB 12.9 MB/s eta 0:00:03\n",
      "   ------ --------------------------------- 6.9/42.2 MB 12.9 MB/s eta 0:00:03\n",
      "   ------ --------------------------------- 6.9/42.2 MB 12.9 MB/s eta 0:00:03\n",
      "   --------- ------------------------------ 9.5/42.2 MB 2.6 MB/s eta 0:00:13\n",
      "   ---------- ----------------------------- 11.5/42.2 MB 2.8 MB/s eta 0:00:12\n",
      "   ------------ --------------------------- 13.2/42.2 MB 2.8 MB/s eta 0:00:11\n",
      "   ------------ --------------------------- 13.5/42.2 MB 2.7 MB/s eta 0:00:11\n",
      "   -------------- ------------------------- 15.2/42.2 MB 3.0 MB/s eta 0:00:09\n",
      "   --------------- ------------------------ 16.3/42.2 MB 3.0 MB/s eta 0:00:09\n",
      "   ----------------- ---------------------- 18.3/42.2 MB 29.7 MB/s eta 0:00:01\n",
      "   ------------------ --------------------- 20.0/42.2 MB 28.4 MB/s eta 0:00:01\n",
      "   -------------------- ------------------- 22.0/42.2 MB 28.4 MB/s eta 0:00:01\n",
      "   ---------------------- ----------------- 23.8/42.2 MB 36.3 MB/s eta 0:00:01\n",
      "   ------------------------ --------------- 25.4/42.2 MB 34.6 MB/s eta 0:00:01\n",
      "   -------------------------- ------------- 27.8/42.2 MB 40.9 MB/s eta 0:00:01\n",
      "   ---------------------------- ----------- 29.7/42.2 MB 40.9 MB/s eta 0:00:01\n",
      "   ----------------------------- ---------- 31.5/42.2 MB 40.9 MB/s eta 0:00:01\n",
      "   ------------------------------- -------- 33.7/42.2 MB 40.9 MB/s eta 0:00:01\n",
      "   ---------------------------------- ----- 36.0/42.2 MB 40.9 MB/s eta 0:00:01\n",
      "   ------------------------------------ --- 38.5/42.2 MB 40.9 MB/s eta 0:00:01\n",
      "   -------------------------------------- - 40.4/42.2 MB 40.9 MB/s eta 0:00:01\n",
      "   ---------------------------------------  42.2/42.2 MB 40.9 MB/s eta 0:00:01\n",
      "   ---------------------------------------  42.2/42.2 MB 40.9 MB/s eta 0:00:01\n",
      "   ---------------------------------------  42.2/42.2 MB 40.9 MB/s eta 0:00:01\n",
      "   ---------------------------------------  42.2/42.2 MB 40.9 MB/s eta 0:00:01\n",
      "   ---------------------------------------  42.2/42.2 MB 40.9 MB/s eta 0:00:01\n",
      "   ---------------------------------------  42.2/42.2 MB 40.9 MB/s eta 0:00:01\n",
      "   ---------------------------------------  42.2/42.2 MB 40.9 MB/s eta 0:00:01\n",
      "   ---------------------------------------  42.2/42.2 MB 40.9 MB/s eta 0:00:01\n",
      "   ---------------------------------------  42.2/42.2 MB 40.9 MB/s eta 0:00:01\n",
      "   ---------------------------------------  42.2/42.2 MB 40.9 MB/s eta 0:00:01\n",
      "   ---------------------------------------  42.2/42.2 MB 40.9 MB/s eta 0:00:01\n",
      "   ---------------------------------------  42.2/42.2 MB 40.9 MB/s eta 0:00:01\n",
      "   ---------------------------------------  42.2/42.2 MB 40.9 MB/s eta 0:00:01\n",
      "   ---------------------------------------  42.2/42.2 MB 40.9 MB/s eta 0:00:01\n",
      "   ---------------------------------------  42.2/42.2 MB 40.9 MB/s eta 0:00:01\n",
      "   ---------------------------------------- 42.2/42.2 MB 10.1 MB/s eta 0:00:00\n",
      "Downloading tifffile-2023.7.10-py3-none-any.whl (220 kB)\n",
      "   ---------------------------------------- 0.0/220.9 kB ? eta -:--:--\n",
      "   ---------------------------------------- 220.9/220.9 kB 6.8 MB/s eta 0:00:00\n",
      "Installing collected packages: tifffile, scipy, PyWavelets, networkx, lazy_loader, imageio, scikit-image\n",
      "Successfully installed PyWavelets-1.4.1 imageio-2.35.1 lazy_loader-0.4 networkx-3.1 scikit-image-0.21.0 scipy-1.10.1 tifffile-2023.7.10\n",
      "Note: you may need to restart the kernel to use updated packages.\n"
     ]
    },
    {
     "name": "stderr",
     "output_type": "stream",
     "text": [
      "WARNING: Ignoring invalid distribution -lotly (c:\\users\\nikla\\anaconda3\\lib\\site-packages)\n",
      "WARNING: Ignoring invalid distribution -rotobuf (c:\\users\\nikla\\anaconda3\\lib\\site-packages)\n",
      "WARNING: Error parsing dependencies of pyzmq: [Errno 2] No such file or directory: 'c:\\\\users\\\\nikla\\\\anaconda3\\\\lib\\\\site-packages\\\\pyzmq-22.3.0.dist-info\\\\METADATA'\n",
      "WARNING: Ignoring invalid distribution -lotly (c:\\users\\nikla\\anaconda3\\lib\\site-packages)\n",
      "WARNING: Ignoring invalid distribution -rotobuf (c:\\users\\nikla\\anaconda3\\lib\\site-packages)\n",
      "ERROR: pip's dependency resolver does not currently take into account all the packages that are installed. This behaviour is the source of the following dependency conflicts.\n",
      "keras 2.4.3 requires h5py, which is not installed.\n",
      "dbmsbenchmarker 0.13.1 requires cycler>=0.10.0, which is not installed.\n",
      "dbmsbenchmarker 0.13.1 requires kiwisolver>=1.2.0, which is not installed.\n",
      "dbmsbenchmarker 0.13.1 requires matplotlib>=3.1.1, which is not installed.\n",
      "dbmsbenchmarker 0.13.1 requires pyparsing>=2.4.7, which is not installed.\n",
      "phaseportrait 1.2.2 requires matplotlib, which is not installed.\n",
      "dbmsbenchmarker 0.13.1 requires urllib3==1.26.5, but you have urllib3 1.26.19 which is incompatible.\n"
     ]
    }
   ],
   "source": [
    "pip install scikit-image"
   ]
  },
  {
   "cell_type": "code",
   "execution_count": 7,
   "id": "0471f154-74d5-43d8-873a-64741d08e368",
   "metadata": {},
   "outputs": [
    {
     "name": "stdout",
     "output_type": "stream",
     "text": [
      "Collecting matplotlib\n",
      "  Downloading matplotlib-3.7.5-cp38-cp38-win_amd64.whl.metadata (5.8 kB)\n",
      "Collecting contourpy>=1.0.1 (from matplotlib)\n",
      "  Downloading contourpy-1.1.1-cp38-cp38-win_amd64.whl.metadata (5.9 kB)\n",
      "Collecting cycler>=0.10 (from matplotlib)\n",
      "  Downloading cycler-0.12.1-py3-none-any.whl.metadata (3.8 kB)\n",
      "Collecting fonttools>=4.22.0 (from matplotlib)\n",
      "  Downloading fonttools-4.57.0-cp38-cp38-win_amd64.whl.metadata (104 kB)\n",
      "     ---------------------------------------- 0.0/104.4 kB ? eta -:--:--\n",
      "     -------------------------------------- 104.4/104.4 kB 3.0 MB/s eta 0:00:00\n",
      "Collecting kiwisolver>=1.0.1 (from matplotlib)\n",
      "  Downloading kiwisolver-1.4.7-cp38-cp38-win_amd64.whl.metadata (6.4 kB)\n",
      "Requirement already satisfied: numpy<2,>=1.20 in c:\\users\\nikla\\anaconda3\\lib\\site-packages (from matplotlib) (1.24.3)\n",
      "Requirement already satisfied: packaging>=20.0 in c:\\users\\nikla\\anaconda3\\lib\\site-packages (from matplotlib) (23.1)\n",
      "Requirement already satisfied: pillow>=6.2.0 in c:\\users\\nikla\\anaconda3\\lib\\site-packages (from matplotlib) (10.4.0)\n",
      "Collecting pyparsing>=2.3.1 (from matplotlib)\n",
      "  Downloading pyparsing-3.1.4-py3-none-any.whl.metadata (5.1 kB)\n",
      "Requirement already satisfied: python-dateutil>=2.7 in c:\\users\\nikla\\anaconda3\\lib\\site-packages (from matplotlib) (2.9.0.post0)\n",
      "Requirement already satisfied: importlib-resources>=3.2.0 in c:\\users\\nikla\\anaconda3\\lib\\site-packages (from matplotlib) (6.1.1)\n",
      "Requirement already satisfied: zipp>=3.1.0 in c:\\users\\nikla\\anaconda3\\lib\\site-packages (from importlib-resources>=3.2.0->matplotlib) (3.17.0)\n",
      "Requirement already satisfied: six>=1.5 in c:\\users\\nikla\\anaconda3\\lib\\site-packages (from python-dateutil>=2.7->matplotlib) (1.16.0)\n",
      "Downloading matplotlib-3.7.5-cp38-cp38-win_amd64.whl (7.5 MB)\n",
      "   ---------------------------------------- 0.0/7.5 MB ? eta -:--:--\n",
      "   --------- ------------------------------ 1.8/7.5 MB 37.5 MB/s eta 0:00:01\n",
      "   -------------------- ------------------- 3.8/7.5 MB 48.7 MB/s eta 0:00:01\n",
      "   -------------------------------- ------- 6.0/7.5 MB 42.6 MB/s eta 0:00:01\n",
      "   ---------------------------------------  7.5/7.5 MB 39.9 MB/s eta 0:00:01\n",
      "   ---------------------------------------  7.5/7.5 MB 39.9 MB/s eta 0:00:01\n",
      "   ---------------------------------------- 7.5/7.5 MB 28.2 MB/s eta 0:00:00\n",
      "Downloading contourpy-1.1.1-cp38-cp38-win_amd64.whl (477 kB)\n",
      "   ---------------------------------------- 0.0/477.9 kB ? eta -:--:--\n",
      "   --------------------------------------- 477.9/477.9 kB 15.1 MB/s eta 0:00:00\n",
      "Downloading cycler-0.12.1-py3-none-any.whl (8.3 kB)\n",
      "Downloading fonttools-4.57.0-cp38-cp38-win_amd64.whl (1.5 MB)\n",
      "   ---------------------------------------- 0.0/1.5 MB ? eta -:--:--\n",
      "   ---------------------------------------- 1.5/1.5 MB 32.3 MB/s eta 0:00:00\n",
      "Downloading kiwisolver-1.4.7-cp38-cp38-win_amd64.whl (55 kB)\n",
      "   ---------------------------------------- 0.0/55.8 kB ? eta -:--:--\n",
      "   ---------------------------------------- 55.8/55.8 kB 3.0 MB/s eta 0:00:00\n",
      "Downloading pyparsing-3.1.4-py3-none-any.whl (104 kB)\n",
      "   ---------------------------------------- 0.0/104.1 kB ? eta -:--:--\n",
      "   ---------------------------------------- 104.1/104.1 kB 5.9 MB/s eta 0:00:00\n",
      "Installing collected packages: pyparsing, kiwisolver, fonttools, cycler, contourpy, matplotlib\n",
      "Successfully installed contourpy-1.1.1 cycler-0.12.1 fonttools-4.57.0 kiwisolver-1.4.7 matplotlib-3.7.5 pyparsing-3.1.4\n",
      "Note: you may need to restart the kernel to use updated packages.\n"
     ]
    },
    {
     "name": "stderr",
     "output_type": "stream",
     "text": [
      "WARNING: Ignoring invalid distribution -lotly (c:\\users\\nikla\\anaconda3\\lib\\site-packages)\n",
      "WARNING: Ignoring invalid distribution -rotobuf (c:\\users\\nikla\\anaconda3\\lib\\site-packages)\n",
      "WARNING: Error parsing dependencies of pyzmq: [Errno 2] No such file or directory: 'c:\\\\users\\\\nikla\\\\anaconda3\\\\lib\\\\site-packages\\\\pyzmq-22.3.0.dist-info\\\\METADATA'\n",
      "WARNING: Ignoring invalid distribution -lotly (c:\\users\\nikla\\anaconda3\\lib\\site-packages)\n",
      "WARNING: Ignoring invalid distribution -rotobuf (c:\\users\\nikla\\anaconda3\\lib\\site-packages)\n",
      "ERROR: pip's dependency resolver does not currently take into account all the packages that are installed. This behaviour is the source of the following dependency conflicts.\n",
      "dbmsbenchmarker 0.13.1 requires urllib3==1.26.5, but you have urllib3 1.26.19 which is incompatible.\n"
     ]
    }
   ],
   "source": [
    "pip install matplotlib"
   ]
  },
  {
   "cell_type": "code",
   "execution_count": 558,
   "id": "af8d7705-2da7-4bb6-ba7c-f1de7c3be711",
   "metadata": {},
   "outputs": [],
   "source": [
    "import skimage as ski\n",
    "import matplotlib.pyplot as plt\n",
    "import numpy as np"
   ]
  },
  {
   "cell_type": "code",
   "execution_count": 559,
   "id": "fcd69ccc-60f4-4361-b099-edec99aa71b7",
   "metadata": {},
   "outputs": [
    {
     "data": {
      "text/plain": [
       "<matplotlib.image.AxesImage at 0x1587dcb0310>"
      ]
     },
     "execution_count": 559,
     "metadata": {},
     "output_type": "execute_result"
    },
    {
     "data": {
      "image/png": "[encoded data removed]",
      "text/plain": [
       "<Figure size 640x480 with 1 Axes>"
      ]
     },
     "metadata": {},
     "output_type": "display_data"
    }
   ],
   "source": [
    "checker_board_image = ski.data.checkerboard()\n",
    "\n",
    "plt.imshow(checker_board_image, cmap='gray')"
   ]
  },
  {
   "cell_type": "code",
   "execution_count": 721,
   "id": "a8621a1e-1255-4e58-a6f1-c6ece3a69245",
   "metadata": {},
   "outputs": [],
   "source": [
    "class lines:\n",
    "    def __init__(self, start_pos, end_pos):\n",
    "        self.start_pos = start_pos\n",
    "        self.end_pos = end_pos\n",
    "        self.steigung = None\n",
    "        self.t = None\n",
    "\n",
    "    def berechne_steigung(self):\n",
    "        self.steigung = (self.end_pos[1] - self.end_pos[0]) / (self.start_pos[1] - self.start_pos[0])\n",
    "\n",
    "    def berechne_t(self):\n",
    "        if (self.steigung != None):\n",
    "            self.t = self.start_pos[1] - (self.steigung*self.start_pos[0])\n",
    "\n",
    "    def berechne_punkt_linie(self, x):\n",
    "        punkt = (self.steigung * x) + self.t\n",
    "        return punkt\n",
    "\n",
    "    def __str__(self):\n",
    "        return f\"gerade Gleichung ist: {self.steigung}*x\" + \" +\" + f\"{self.t}\"\n",
    "        \n",
    "        "
   ]
  },
  {
   "cell_type": "code",
   "execution_count": 722,
   "id": "101e15d0-8f44-48c6-a4c8-4326233546cf",
   "metadata": {},
   "outputs": [],
   "source": [
    "def corner_min_max(matrix, corner_0, corner_1, corner_2, corner_3): #funktion gibt den minimalen x wert und den maximalen X aus\n",
    "    corner_0_neu = matrix@corner_0\n",
    "    corner_1_neu = matrix@corner_1\n",
    "    corner_2_neu = matrix@corner_2\n",
    "    corner_3_neu = matrix@corner_3\n",
    "\n",
    "    new_corners = np.round(np.array([corner_0_neu, corner_1_neu, corner_2_neu, corner_3_neu])).astype(int)\n",
    "\n",
    "    x_min = np.min(new_corners[:,0])\n",
    "    x_max = np.max(new_corners[:,0])\n",
    "\n",
    "    y_min = np.min(new_corners[:,1])\n",
    "    y_max = np.max(new_corners[:,1])\n",
    "\n",
    "    return x_min, x_max, y_min, y_max\n",
    "\n",
    "def get_start_lines(img, amount_lines):\n",
    "    width = img.shape[0]\n",
    "    height = img.shape[1]\n",
    "    start_lines = [[[i, i], [0, height]] for i in range(0, width+1, int(width/amount_lines))]\n",
    "    return start_lines\n",
    "\n",
    "def rotate_lines(lines, winkel):\n",
    "    test = np.array(lines)\n",
    "    rotate_matrix = np.array([[np.cos(np.radians(winkel)), -np.sin(np.radians(winkel))], [np.sin(np.radians(winkel)), np.cos(np.radians(winkel))]])\n",
    "\n",
    "    x_min, x_max, y_min, y_max = corner_min_max(rotate_matrix, np.array([0, 0]), np.array([0, 200]), np.array([200, 0]), np.array([200, 200]))\n",
    "\n",
    "    rotation_lines = rotate_matrix@lines\n",
    "\n",
    "    #t_x = 0 - x_min\n",
    "    #t_y = 0 - y_min\n",
    "\n",
    "    #Transformationsmatrix = np.eye(3)\n",
    "\n",
    "    #Transformationsmatrix[:2, :2] = rotate_matrix\n",
    "    \n",
    "    #Transformationsmatrix[0, 2] = t_x\n",
    "    #Transformationsmatrix[1, 2] = t_y\n",
    "\n",
    "    #lines_matrix = np.zeros((len(lines), 3, 3))\n",
    "    #lines_matrix[:, :2, :2] = lines  # Rotation einfügen\n",
    "    #lines_matrix[:, 2, 2] = 1   \n",
    "\n",
    "    verschiebung = np.array([[-x_min, -x_min], [-y_min, -y_min]])\n",
    "\n",
    "    return rotation_lines + verschiebung"
   ]
  },
  {
   "cell_type": "code",
   "execution_count": 723,
   "id": "e0bac76f-1a45-4b41-aab7-3ac9141fe9c1",
   "metadata": {},
   "outputs": [],
   "source": [
    "lines2 = np.array(get_start_lines(checker_board_image, 25))\n",
    "test = rotate_lines(lines2, 45) "
   ]
  },
  {
   "cell_type": "code",
   "execution_count": 724,
   "id": "82c16953-186e-4390-84eb-fbd4468d605f",
   "metadata": {},
   "outputs": [
    {
     "data": {
      "text/plain": [
       "array([ -0.42135624, 141.42135624])"
      ]
     },
     "execution_count": 724,
     "metadata": {},
     "output_type": "execute_result"
    }
   ],
   "source": [
    "test[0, :, 1:].reshape(1,2)[0]"
   ]
  },
  {
   "cell_type": "code",
   "execution_count": 725,
   "id": "fbcaa002-fd27-4cdf-a18f-29bc6ed12e17",
   "metadata": {},
   "outputs": [],
   "source": [
    "line = lines(test[0, :, :1].reshape(1,2)[0], test[0, :, 1:].reshape(1,2)[0])\n",
    "\n",
    "line.berechne_steigung()"
   ]
  },
  {
   "cell_type": "code",
   "execution_count": 726,
   "id": "2553a091-e0dd-43bf-ac66-529fa89c321e",
   "metadata": {},
   "outputs": [],
   "source": [
    "line.berechne_steigung()"
   ]
  },
  {
   "cell_type": "code",
   "execution_count": 727,
   "id": "363c118f-c871-4a22-8c0d-ce6954789cf5",
   "metadata": {},
   "outputs": [
    {
     "data": {
      "text/plain": [
       "-1.0059766842171562"
      ]
     },
     "execution_count": 727,
     "metadata": {},
     "output_type": "execute_result"
    }
   ],
   "source": [
    "line.steigung"
   ]
  },
  {
   "cell_type": "code",
   "execution_count": 728,
   "id": "e519142f-b9ed-450c-8400-1aaedae038f7",
   "metadata": {},
   "outputs": [],
   "source": [
    "line.berechne_t()"
   ]
  },
  {
   "cell_type": "code",
   "execution_count": 729,
   "id": "844b1f46-8eb4-4547-83cd-862779c28e36",
   "metadata": {},
   "outputs": [
    {
     "name": "stdout",
     "output_type": "stream",
     "text": [
      "gerade Gleichung ist: -1.0059766842171562*x +141.84271247461902\n"
     ]
    }
   ],
   "source": [
    "print(line)"
   ]
  },
  {
   "cell_type": "code",
   "execution_count": 702,
   "id": "e40594a3-c803-47fb-85ec-952e8e6fcd3b",
   "metadata": {},
   "outputs": [
    {
     "data": {
      "image/png": "[encoded data removed]",
      "text/plain": [
       "<Figure size 800x500 with 1 Axes>"
      ]
     },
     "metadata": {},
     "output_type": "display_data"
    }
   ],
   "source": [
    "fig, ax = plt.subplots(figsize=(8, 5))\n",
    "for i in range(len(test)):\n",
    "    ax.imshow(checker_board_image, cmap='gray')\n",
    "    ax.plot(test[i, :][0], test[i, :][1], color='red')\n",
    "\n",
    "plt.show()"
   ]
  },
  {
   "cell_type": "code",
   "execution_count": null,
   "id": "20ccb80d-60ed-4c79-8ee4-696983a3b075",
   "metadata": {},
   "outputs": [],
   "source": []
  }
 ],
 "metadata": {
  "kernelspec": {
   "display_name": "Python 3 (ipykernel)",
   "language": "python",
   "name": "python3"
  },
  "language_info": {
   "codemirror_mode": {
    "name": "ipython",
    "version": 3
   },
   "file_extension": ".py",
   "mimetype": "text/x-python",
   "name": "python",
   "nbconvert_exporter": "python",
   "pygments_lexer": "ipython3",
   "version": "3.8.19"
  }
 },
 "nbformat": 4,
 "nbformat_minor": 5
}
